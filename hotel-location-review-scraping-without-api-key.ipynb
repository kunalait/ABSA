{
 "cells": [
  {
   "cell_type": "code",
   "execution_count": 112,
   "id": "55ec349f",
   "metadata": {},
   "outputs": [],
   "source": [
    "import googlemaps \n",
    "import pandas as pd\n",
    "import json\n",
    "import time"
   ]
  },
  {
   "cell_type": "code",
   "execution_count": 113,
   "id": "2f9c0240",
   "metadata": {},
   "outputs": [],
   "source": [
    "API_KEY = 'Your API Key'"
   ]
  },
  {
   "cell_type": "code",
   "execution_count": 114,
   "id": "5e2338bb",
   "metadata": {},
   "outputs": [],
   "source": [
    "map_client = googlemaps.Client(API_KEY)"
   ]
  },
  {
   "cell_type": "markdown",
   "id": "50136b8b",
   "metadata": {},
   "source": [
    "Enter Location:"
   ]
  },
  {
   "cell_type": "code",
   "execution_count": 115,
   "id": "66ad9714",
   "metadata": {},
   "outputs": [],
   "source": [
    "location = '50.9370268, 6.9656287'                                                 "
   ]
  },
  {
   "cell_type": "markdown",
   "id": "24508052",
   "metadata": {},
   "source": [
    "Enter search interest: "
   ]
  },
  {
   "cell_type": "code",
   "execution_count": 116,
   "id": "bfed83d8",
   "metadata": {},
   "outputs": [],
   "source": [
    "search_string = 'hotel'"
   ]
  },
  {
   "cell_type": "markdown",
   "id": "73a7ce0d",
   "metadata": {},
   "source": [
    "Enter search radius:"
   ]
  },
  {
   "cell_type": "code",
   "execution_count": 117,
   "id": "3c729647",
   "metadata": {},
   "outputs": [],
   "source": [
    "distances = 1000                                                                                   "
   ]
  },
  {
   "cell_type": "code",
   "execution_count": 118,
   "id": "57f1c248",
   "metadata": {},
   "outputs": [],
   "source": [
    "hotel_list = []"
   ]
  },
  {
   "cell_type": "code",
   "execution_count": 119,
   "id": "16369548",
   "metadata": {},
   "outputs": [],
   "source": [
    "#api call of nearby locations\n",
    "response = map_client.places_nearby(\n",
    "    location = location,\n",
    "    keyword = search_string,\n",
    "    radius = distances,\n",
    ")"
   ]
  },
  {
   "cell_type": "code",
   "execution_count": 120,
   "id": "59ff9e7c",
   "metadata": {},
   "outputs": [],
   "source": [
    "hotel_list.extend(response.get('results'))                                             "
   ]
  },
  {
   "cell_type": "code",
   "execution_count": 121,
   "id": "c48a5692",
   "metadata": {},
   "outputs": [],
   "source": [
    "#response['results'][0]['place_id']"
   ]
  },
  {
   "cell_type": "code",
   "execution_count": 122,
   "id": "2149a86f",
   "metadata": {},
   "outputs": [],
   "source": [
    "#next_page_token = response.get('next_page_token')"
   ]
  },
  {
   "cell_type": "code",
   "execution_count": 123,
   "id": "b0b1004e",
   "metadata": {},
   "outputs": [],
   "source": [
    "#more than 18 locations searching (one page of maps)\n",
    "#while next_page_token:\n",
    "#    time.sleep(2)\n",
    "#    response = map_client.places_nearby(\n",
    "#        location = location,\n",
    "#        keyword = search_string,\n",
    "#        radius = distances\n",
    "#    )\n",
    "#    hotel_list.extend(response.get('results'))\n",
    "#    next_page_token = response.get('next_page_token')"
   ]
  },
  {
   "cell_type": "code",
   "execution_count": 124,
   "id": "feb5b095",
   "metadata": {},
   "outputs": [],
   "source": [
    "df = pd.DataFrame(hotel_list)                                                             "
   ]
  },
  {
   "cell_type": "code",
   "execution_count": 125,
   "id": "98dcc9b7",
   "metadata": {},
   "outputs": [],
   "source": [
    "df['reviews'] = ''"
   ]
  },
  {
   "cell_type": "code",
   "execution_count": 126,
   "id": "c234cf6b",
   "metadata": {},
   "outputs": [
    {
     "name": "stderr",
     "output_type": "stream",
     "text": [
      "C:\\Users\\sasch\\AppData\\Local\\Temp\\ipykernel_10024\\1933474400.py:9: SettingWithCopyWarning: \n",
      "A value is trying to be set on a copy of a slice from a DataFrame\n",
      "\n",
      "See the caveats in the documentation: https://pandas.pydata.org/pandas-docs/stable/user_guide/indexing.html#returning-a-view-versus-a-copy\n",
      "  df['reviews'][index] = reviews\n"
     ]
    }
   ],
   "source": [
    "#api call of reviews\n",
    "for index, place in df['place_id'].iteritems():\n",
    "    place = map_client.place(place_id = place)\n",
    "    reviews = []\n",
    "    for i in range(len(place['result']['reviews'])):\n",
    "        text = place['result']['reviews'][i]['text']\n",
    "        reviews.append(text)\n",
    "        #print(reviews)\n",
    "    df['reviews'][index] = reviews"
   ]
  },
  {
   "cell_type": "code",
   "execution_count": 127,
   "id": "59ac3d14",
   "metadata": {},
   "outputs": [],
   "source": [
    "df_city = df.drop(['business_status', 'geometry', 'icon', 'icon_background_color', 'icon_mask_base_uri', 'photos', 'plus_code', 'reference', 'scope', 'user_ratings_total', 'opening_hours'], axis = 1)"
   ]
  },
  {
   "cell_type": "markdown",
   "id": "5d88a5e5",
   "metadata": {},
   "source": [
    "Enter hotel_list city:"
   ]
  },
  {
   "cell_type": "code",
   "execution_count": 129,
   "id": "98d3a9d0",
   "metadata": {},
   "outputs": [],
   "source": [
    "df_city.to_csv('hotel_list_köln2.csv')                                            "
   ]
  },
  {
   "cell_type": "code",
   "execution_count": null,
   "id": "e4d220db",
   "metadata": {},
   "outputs": [],
   "source": []
  }
 ],
 "metadata": {
  "kernelspec": {
   "display_name": "Python 3 (ipykernel)",
   "language": "python",
   "name": "python3"
  },
  "language_info": {
   "codemirror_mode": {
    "name": "ipython",
    "version": 3
   },
   "file_extension": ".py",
   "mimetype": "text/x-python",
   "name": "python",
   "nbconvert_exporter": "python",
   "pygments_lexer": "ipython3",
   "version": "3.10.2"
  }
 },
 "nbformat": 4,
 "nbformat_minor": 5
}
